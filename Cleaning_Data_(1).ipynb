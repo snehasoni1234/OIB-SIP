{
  "cells": [
    {
      "cell_type": "markdown",
      "metadata": {
        "id": "view-in-github",
        "colab_type": "text"
      },
      "source": [
        "<a href=\"https://colab.research.google.com/github/snehasoni1234/OIB-SIP/blob/main/Cleaning_Data_(1).ipynb\" target=\"_parent\"><img src=\"https://colab.research.google.com/assets/colab-badge.svg\" alt=\"Open In Colab\"/></a>"
      ]
    },
    {
      "cell_type": "markdown",
      "id": "07ba4032-22db-41f2-8309-d964129eb0ae",
      "metadata": {
        "id": "07ba4032-22db-41f2-8309-d964129eb0ae"
      },
      "source": [
        "# Import liabraries & Dependencies\n"
      ]
    },
    {
      "cell_type": "code",
      "execution_count": null,
      "id": "ceb26063-7fd1-44b1-9751-49e34f8ae74a",
      "metadata": {
        "id": "ceb26063-7fd1-44b1-9751-49e34f8ae74a"
      },
      "outputs": [],
      "source": [
        "import pandas as pd\n",
        "import seaborn as sns\n",
        "import matplotlib.pyplot as plt\n",
        "from scipy import stats\n",
        "import numpy as np"
      ]
    },
    {
      "cell_type": "markdown",
      "id": "01fb7cf3-3d10-4354-b1bf-3aa392daa72b",
      "metadata": {
        "id": "01fb7cf3-3d10-4354-b1bf-3aa392daa72b"
      },
      "source": [
        "# Load and read Dataset"
      ]
    },
    {
      "cell_type": "code",
      "execution_count": null,
      "id": "b923f8e8-79b0-4a7f-80e6-3c8fc91241b6",
      "metadata": {
        "id": "b923f8e8-79b0-4a7f-80e6-3c8fc91241b6"
      },
      "outputs": [],
      "source": [
        "df = pd.read_csv(\"AB_NYC_2019.csv\")"
      ]
    },
    {
      "cell_type": "code",
      "execution_count": null,
      "id": "f96daac6-e6cd-4919-9e85-50e9b20744a9",
      "metadata": {
        "id": "f96daac6-e6cd-4919-9e85-50e9b20744a9",
        "outputId": "d436dd60-c72d-4d52-8507-61fce141dc33"
      },
      "outputs": [
        {
          "data": {
            "text/html": [
              "<div>\n",
              "<style scoped>\n",
              "    .dataframe tbody tr th:only-of-type {\n",
              "        vertical-align: middle;\n",
              "    }\n",
              "\n",
              "    .dataframe tbody tr th {\n",
              "        vertical-align: top;\n",
              "    }\n",
              "\n",
              "    .dataframe thead th {\n",
              "        text-align: right;\n",
              "    }\n",
              "</style>\n",
              "<table border=\"1\" class=\"dataframe\">\n",
              "  <thead>\n",
              "    <tr style=\"text-align: right;\">\n",
              "      <th></th>\n",
              "      <th>id</th>\n",
              "      <th>name</th>\n",
              "      <th>host_id</th>\n",
              "      <th>host_name</th>\n",
              "      <th>neighbourhood_group</th>\n",
              "      <th>neighbourhood</th>\n",
              "      <th>latitude</th>\n",
              "      <th>longitude</th>\n",
              "      <th>room_type</th>\n",
              "      <th>price</th>\n",
              "      <th>minimum_nights</th>\n",
              "      <th>number_of_reviews</th>\n",
              "      <th>last_review</th>\n",
              "      <th>reviews_per_month</th>\n",
              "      <th>calculated_host_listings_count</th>\n",
              "      <th>availability_365</th>\n",
              "    </tr>\n",
              "  </thead>\n",
              "  <tbody>\n",
              "    <tr>\n",
              "      <th>0</th>\n",
              "      <td>2539</td>\n",
              "      <td>Clean &amp; quiet apt home by the park</td>\n",
              "      <td>2787</td>\n",
              "      <td>John</td>\n",
              "      <td>Brooklyn</td>\n",
              "      <td>Kensington</td>\n",
              "      <td>40.64749</td>\n",
              "      <td>-73.97237</td>\n",
              "      <td>Private room</td>\n",
              "      <td>149</td>\n",
              "      <td>1</td>\n",
              "      <td>9</td>\n",
              "      <td>2018-10-19</td>\n",
              "      <td>0.21</td>\n",
              "      <td>6</td>\n",
              "      <td>365</td>\n",
              "    </tr>\n",
              "    <tr>\n",
              "      <th>1</th>\n",
              "      <td>2595</td>\n",
              "      <td>Skylit Midtown Castle</td>\n",
              "      <td>2845</td>\n",
              "      <td>Jennifer</td>\n",
              "      <td>Manhattan</td>\n",
              "      <td>Midtown</td>\n",
              "      <td>40.75362</td>\n",
              "      <td>-73.98377</td>\n",
              "      <td>Entire home/apt</td>\n",
              "      <td>225</td>\n",
              "      <td>1</td>\n",
              "      <td>45</td>\n",
              "      <td>2019-05-21</td>\n",
              "      <td>0.38</td>\n",
              "      <td>2</td>\n",
              "      <td>355</td>\n",
              "    </tr>\n",
              "    <tr>\n",
              "      <th>2</th>\n",
              "      <td>3647</td>\n",
              "      <td>THE VILLAGE OF HARLEM....NEW YORK !</td>\n",
              "      <td>4632</td>\n",
              "      <td>Elisabeth</td>\n",
              "      <td>Manhattan</td>\n",
              "      <td>Harlem</td>\n",
              "      <td>40.80902</td>\n",
              "      <td>-73.94190</td>\n",
              "      <td>Private room</td>\n",
              "      <td>150</td>\n",
              "      <td>3</td>\n",
              "      <td>0</td>\n",
              "      <td>NaN</td>\n",
              "      <td>NaN</td>\n",
              "      <td>1</td>\n",
              "      <td>365</td>\n",
              "    </tr>\n",
              "    <tr>\n",
              "      <th>3</th>\n",
              "      <td>3831</td>\n",
              "      <td>Cozy Entire Floor of Brownstone</td>\n",
              "      <td>4869</td>\n",
              "      <td>LisaRoxanne</td>\n",
              "      <td>Brooklyn</td>\n",
              "      <td>Clinton Hill</td>\n",
              "      <td>40.68514</td>\n",
              "      <td>-73.95976</td>\n",
              "      <td>Entire home/apt</td>\n",
              "      <td>89</td>\n",
              "      <td>1</td>\n",
              "      <td>270</td>\n",
              "      <td>2019-07-05</td>\n",
              "      <td>4.64</td>\n",
              "      <td>1</td>\n",
              "      <td>194</td>\n",
              "    </tr>\n",
              "    <tr>\n",
              "      <th>4</th>\n",
              "      <td>5022</td>\n",
              "      <td>Entire Apt: Spacious Studio/Loft by central park</td>\n",
              "      <td>7192</td>\n",
              "      <td>Laura</td>\n",
              "      <td>Manhattan</td>\n",
              "      <td>East Harlem</td>\n",
              "      <td>40.79851</td>\n",
              "      <td>-73.94399</td>\n",
              "      <td>Entire home/apt</td>\n",
              "      <td>80</td>\n",
              "      <td>10</td>\n",
              "      <td>9</td>\n",
              "      <td>2018-11-19</td>\n",
              "      <td>0.10</td>\n",
              "      <td>1</td>\n",
              "      <td>0</td>\n",
              "    </tr>\n",
              "    <tr>\n",
              "      <th>5</th>\n",
              "      <td>5099</td>\n",
              "      <td>Large Cozy 1 BR Apartment In Midtown East</td>\n",
              "      <td>7322</td>\n",
              "      <td>Chris</td>\n",
              "      <td>Manhattan</td>\n",
              "      <td>Murray Hill</td>\n",
              "      <td>40.74767</td>\n",
              "      <td>-73.97500</td>\n",
              "      <td>Entire home/apt</td>\n",
              "      <td>200</td>\n",
              "      <td>3</td>\n",
              "      <td>74</td>\n",
              "      <td>2019-06-22</td>\n",
              "      <td>0.59</td>\n",
              "      <td>1</td>\n",
              "      <td>129</td>\n",
              "    </tr>\n",
              "    <tr>\n",
              "      <th>6</th>\n",
              "      <td>5121</td>\n",
              "      <td>BlissArtsSpace!</td>\n",
              "      <td>7356</td>\n",
              "      <td>Garon</td>\n",
              "      <td>Brooklyn</td>\n",
              "      <td>Bedford-Stuyvesant</td>\n",
              "      <td>40.68688</td>\n",
              "      <td>-73.95596</td>\n",
              "      <td>Private room</td>\n",
              "      <td>60</td>\n",
              "      <td>45</td>\n",
              "      <td>49</td>\n",
              "      <td>2017-10-05</td>\n",
              "      <td>0.40</td>\n",
              "      <td>1</td>\n",
              "      <td>0</td>\n",
              "    </tr>\n",
              "    <tr>\n",
              "      <th>7</th>\n",
              "      <td>5178</td>\n",
              "      <td>Large Furnished Room Near B'way</td>\n",
              "      <td>8967</td>\n",
              "      <td>Shunichi</td>\n",
              "      <td>Manhattan</td>\n",
              "      <td>Hell's Kitchen</td>\n",
              "      <td>40.76489</td>\n",
              "      <td>-73.98493</td>\n",
              "      <td>Private room</td>\n",
              "      <td>79</td>\n",
              "      <td>2</td>\n",
              "      <td>430</td>\n",
              "      <td>2019-06-24</td>\n",
              "      <td>3.47</td>\n",
              "      <td>1</td>\n",
              "      <td>220</td>\n",
              "    </tr>\n",
              "    <tr>\n",
              "      <th>8</th>\n",
              "      <td>5203</td>\n",
              "      <td>Cozy Clean Guest Room - Family Apt</td>\n",
              "      <td>7490</td>\n",
              "      <td>MaryEllen</td>\n",
              "      <td>Manhattan</td>\n",
              "      <td>Upper West Side</td>\n",
              "      <td>40.80178</td>\n",
              "      <td>-73.96723</td>\n",
              "      <td>Private room</td>\n",
              "      <td>79</td>\n",
              "      <td>2</td>\n",
              "      <td>118</td>\n",
              "      <td>2017-07-21</td>\n",
              "      <td>0.99</td>\n",
              "      <td>1</td>\n",
              "      <td>0</td>\n",
              "    </tr>\n",
              "    <tr>\n",
              "      <th>9</th>\n",
              "      <td>5238</td>\n",
              "      <td>Cute &amp; Cozy Lower East Side 1 bdrm</td>\n",
              "      <td>7549</td>\n",
              "      <td>Ben</td>\n",
              "      <td>Manhattan</td>\n",
              "      <td>Chinatown</td>\n",
              "      <td>40.71344</td>\n",
              "      <td>-73.99037</td>\n",
              "      <td>Entire home/apt</td>\n",
              "      <td>150</td>\n",
              "      <td>1</td>\n",
              "      <td>160</td>\n",
              "      <td>2019-06-09</td>\n",
              "      <td>1.33</td>\n",
              "      <td>4</td>\n",
              "      <td>188</td>\n",
              "    </tr>\n",
              "  </tbody>\n",
              "</table>\n",
              "</div>"
            ],
            "text/plain": [
              "     id                                              name  host_id  \\\n",
              "0  2539                Clean & quiet apt home by the park     2787   \n",
              "1  2595                             Skylit Midtown Castle     2845   \n",
              "2  3647               THE VILLAGE OF HARLEM....NEW YORK !     4632   \n",
              "3  3831                   Cozy Entire Floor of Brownstone     4869   \n",
              "4  5022  Entire Apt: Spacious Studio/Loft by central park     7192   \n",
              "5  5099         Large Cozy 1 BR Apartment In Midtown East     7322   \n",
              "6  5121                                   BlissArtsSpace!     7356   \n",
              "7  5178                  Large Furnished Room Near B'way      8967   \n",
              "8  5203                Cozy Clean Guest Room - Family Apt     7490   \n",
              "9  5238                Cute & Cozy Lower East Side 1 bdrm     7549   \n",
              "\n",
              "     host_name neighbourhood_group       neighbourhood  latitude  longitude  \\\n",
              "0         John            Brooklyn          Kensington  40.64749  -73.97237   \n",
              "1     Jennifer           Manhattan             Midtown  40.75362  -73.98377   \n",
              "2    Elisabeth           Manhattan              Harlem  40.80902  -73.94190   \n",
              "3  LisaRoxanne            Brooklyn        Clinton Hill  40.68514  -73.95976   \n",
              "4        Laura           Manhattan         East Harlem  40.79851  -73.94399   \n",
              "5        Chris           Manhattan         Murray Hill  40.74767  -73.97500   \n",
              "6        Garon            Brooklyn  Bedford-Stuyvesant  40.68688  -73.95596   \n",
              "7     Shunichi           Manhattan      Hell's Kitchen  40.76489  -73.98493   \n",
              "8    MaryEllen           Manhattan     Upper West Side  40.80178  -73.96723   \n",
              "9          Ben           Manhattan           Chinatown  40.71344  -73.99037   \n",
              "\n",
              "         room_type  price  minimum_nights  number_of_reviews last_review  \\\n",
              "0     Private room    149               1                  9  2018-10-19   \n",
              "1  Entire home/apt    225               1                 45  2019-05-21   \n",
              "2     Private room    150               3                  0         NaN   \n",
              "3  Entire home/apt     89               1                270  2019-07-05   \n",
              "4  Entire home/apt     80              10                  9  2018-11-19   \n",
              "5  Entire home/apt    200               3                 74  2019-06-22   \n",
              "6     Private room     60              45                 49  2017-10-05   \n",
              "7     Private room     79               2                430  2019-06-24   \n",
              "8     Private room     79               2                118  2017-07-21   \n",
              "9  Entire home/apt    150               1                160  2019-06-09   \n",
              "\n",
              "   reviews_per_month  calculated_host_listings_count  availability_365  \n",
              "0               0.21                               6               365  \n",
              "1               0.38                               2               355  \n",
              "2                NaN                               1               365  \n",
              "3               4.64                               1               194  \n",
              "4               0.10                               1                 0  \n",
              "5               0.59                               1               129  \n",
              "6               0.40                               1                 0  \n",
              "7               3.47                               1               220  \n",
              "8               0.99                               1                 0  \n",
              "9               1.33                               4               188  "
            ]
          },
          "execution_count": 5,
          "metadata": {},
          "output_type": "execute_result"
        }
      ],
      "source": [
        "df.head(10)"
      ]
    },
    {
      "cell_type": "markdown",
      "id": "440e5f8f-2674-47d0-8bab-629d6ce9ef91",
      "metadata": {
        "id": "440e5f8f-2674-47d0-8bab-629d6ce9ef91"
      },
      "source": [
        "# Descriptive Analysis of the Dataset"
      ]
    },
    {
      "cell_type": "code",
      "execution_count": null,
      "id": "0eba0959-92b6-44cd-9438-3c141cd7e08b",
      "metadata": {
        "id": "0eba0959-92b6-44cd-9438-3c141cd7e08b"
      },
      "outputs": [],
      "source": [
        "# determine the shape of the data"
      ]
    },
    {
      "cell_type": "code",
      "execution_count": null,
      "id": "4db62cc8-4ff0-438c-97b2-28a825024a3d",
      "metadata": {
        "id": "4db62cc8-4ff0-438c-97b2-28a825024a3d",
        "outputId": "1ef823dc-c7c9-4a90-a956-31aa0a2f60e6"
      },
      "outputs": [
        {
          "data": {
            "text/plain": [
              "(48895, 16)"
            ]
          },
          "execution_count": 23,
          "metadata": {},
          "output_type": "execute_result"
        }
      ],
      "source": [
        "df.shape"
      ]
    },
    {
      "cell_type": "code",
      "execution_count": null,
      "id": "4a953ee2-5733-4823-bde2-5d700fc3d727",
      "metadata": {
        "id": "4a953ee2-5733-4823-bde2-5d700fc3d727",
        "outputId": "49a7545f-b193-40a7-ed82-26dbf198cb4b"
      },
      "outputs": [
        {
          "name": "stdout",
          "output_type": "stream",
          "text": [
            "<class 'pandas.core.frame.DataFrame'>\n",
            "RangeIndex: 48895 entries, 0 to 48894\n",
            "Data columns (total 16 columns):\n",
            " #   Column                          Non-Null Count  Dtype  \n",
            "---  ------                          --------------  -----  \n",
            " 0   id                              48895 non-null  int64  \n",
            " 1   name                            48879 non-null  object \n",
            " 2   host_id                         48895 non-null  int64  \n",
            " 3   host_name                       48874 non-null  object \n",
            " 4   neighbourhood_group             48895 non-null  object \n",
            " 5   neighbourhood                   48895 non-null  object \n",
            " 6   latitude                        48895 non-null  float64\n",
            " 7   longitude                       48895 non-null  float64\n",
            " 8   room_type                       48895 non-null  object \n",
            " 9   price                           48895 non-null  int64  \n",
            " 10  minimum_nights                  48895 non-null  int64  \n",
            " 11  number_of_reviews               48895 non-null  int64  \n",
            " 12  last_review                     38843 non-null  object \n",
            " 13  reviews_per_month               38843 non-null  float64\n",
            " 14  calculated_host_listings_count  48895 non-null  int64  \n",
            " 15  availability_365                48895 non-null  int64  \n",
            "dtypes: float64(3), int64(7), object(6)\n",
            "memory usage: 6.0+ MB\n"
          ]
        }
      ],
      "source": [
        "df.info()"
      ]
    },
    {
      "cell_type": "code",
      "execution_count": null,
      "id": "e5780f47-1ed7-4a8a-9af9-e6f3e92c0a2b",
      "metadata": {
        "id": "e5780f47-1ed7-4a8a-9af9-e6f3e92c0a2b",
        "outputId": "23a18b7a-8752-4014-e9cb-9e2ad9d168b0"
      },
      "outputs": [
        {
          "data": {
            "text/html": [
              "<div>\n",
              "<style scoped>\n",
              "    .dataframe tbody tr th:only-of-type {\n",
              "        vertical-align: middle;\n",
              "    }\n",
              "\n",
              "    .dataframe tbody tr th {\n",
              "        vertical-align: top;\n",
              "    }\n",
              "\n",
              "    .dataframe thead th {\n",
              "        text-align: right;\n",
              "    }\n",
              "</style>\n",
              "<table border=\"1\" class=\"dataframe\">\n",
              "  <thead>\n",
              "    <tr style=\"text-align: right;\">\n",
              "      <th></th>\n",
              "      <th>id</th>\n",
              "      <th>host_id</th>\n",
              "      <th>latitude</th>\n",
              "      <th>longitude</th>\n",
              "      <th>price</th>\n",
              "      <th>minimum_nights</th>\n",
              "      <th>number_of_reviews</th>\n",
              "      <th>reviews_per_month</th>\n",
              "      <th>calculated_host_listings_count</th>\n",
              "      <th>availability_365</th>\n",
              "    </tr>\n",
              "  </thead>\n",
              "  <tbody>\n",
              "    <tr>\n",
              "      <th>count</th>\n",
              "      <td>4.889500e+04</td>\n",
              "      <td>4.889500e+04</td>\n",
              "      <td>48895.000000</td>\n",
              "      <td>48895.000000</td>\n",
              "      <td>48895.000000</td>\n",
              "      <td>48895.000000</td>\n",
              "      <td>48895.000000</td>\n",
              "      <td>38843.000000</td>\n",
              "      <td>48895.000000</td>\n",
              "      <td>48895.000000</td>\n",
              "    </tr>\n",
              "    <tr>\n",
              "      <th>mean</th>\n",
              "      <td>1.901714e+07</td>\n",
              "      <td>6.762001e+07</td>\n",
              "      <td>40.728949</td>\n",
              "      <td>-73.952170</td>\n",
              "      <td>152.720687</td>\n",
              "      <td>7.029962</td>\n",
              "      <td>23.274466</td>\n",
              "      <td>1.373221</td>\n",
              "      <td>7.143982</td>\n",
              "      <td>112.781327</td>\n",
              "    </tr>\n",
              "    <tr>\n",
              "      <th>std</th>\n",
              "      <td>1.098311e+07</td>\n",
              "      <td>7.861097e+07</td>\n",
              "      <td>0.054530</td>\n",
              "      <td>0.046157</td>\n",
              "      <td>240.154170</td>\n",
              "      <td>20.510550</td>\n",
              "      <td>44.550582</td>\n",
              "      <td>1.680442</td>\n",
              "      <td>32.952519</td>\n",
              "      <td>131.622289</td>\n",
              "    </tr>\n",
              "    <tr>\n",
              "      <th>min</th>\n",
              "      <td>2.539000e+03</td>\n",
              "      <td>2.438000e+03</td>\n",
              "      <td>40.499790</td>\n",
              "      <td>-74.244420</td>\n",
              "      <td>0.000000</td>\n",
              "      <td>1.000000</td>\n",
              "      <td>0.000000</td>\n",
              "      <td>0.010000</td>\n",
              "      <td>1.000000</td>\n",
              "      <td>0.000000</td>\n",
              "    </tr>\n",
              "    <tr>\n",
              "      <th>25%</th>\n",
              "      <td>9.471945e+06</td>\n",
              "      <td>7.822033e+06</td>\n",
              "      <td>40.690100</td>\n",
              "      <td>-73.983070</td>\n",
              "      <td>69.000000</td>\n",
              "      <td>1.000000</td>\n",
              "      <td>1.000000</td>\n",
              "      <td>0.190000</td>\n",
              "      <td>1.000000</td>\n",
              "      <td>0.000000</td>\n",
              "    </tr>\n",
              "    <tr>\n",
              "      <th>50%</th>\n",
              "      <td>1.967728e+07</td>\n",
              "      <td>3.079382e+07</td>\n",
              "      <td>40.723070</td>\n",
              "      <td>-73.955680</td>\n",
              "      <td>106.000000</td>\n",
              "      <td>3.000000</td>\n",
              "      <td>5.000000</td>\n",
              "      <td>0.720000</td>\n",
              "      <td>1.000000</td>\n",
              "      <td>45.000000</td>\n",
              "    </tr>\n",
              "    <tr>\n",
              "      <th>75%</th>\n",
              "      <td>2.915218e+07</td>\n",
              "      <td>1.074344e+08</td>\n",
              "      <td>40.763115</td>\n",
              "      <td>-73.936275</td>\n",
              "      <td>175.000000</td>\n",
              "      <td>5.000000</td>\n",
              "      <td>24.000000</td>\n",
              "      <td>2.020000</td>\n",
              "      <td>2.000000</td>\n",
              "      <td>227.000000</td>\n",
              "    </tr>\n",
              "    <tr>\n",
              "      <th>max</th>\n",
              "      <td>3.648724e+07</td>\n",
              "      <td>2.743213e+08</td>\n",
              "      <td>40.913060</td>\n",
              "      <td>-73.712990</td>\n",
              "      <td>10000.000000</td>\n",
              "      <td>1250.000000</td>\n",
              "      <td>629.000000</td>\n",
              "      <td>58.500000</td>\n",
              "      <td>327.000000</td>\n",
              "      <td>365.000000</td>\n",
              "    </tr>\n",
              "  </tbody>\n",
              "</table>\n",
              "</div>"
            ],
            "text/plain": [
              "                 id       host_id      latitude     longitude         price  \\\n",
              "count  4.889500e+04  4.889500e+04  48895.000000  48895.000000  48895.000000   \n",
              "mean   1.901714e+07  6.762001e+07     40.728949    -73.952170    152.720687   \n",
              "std    1.098311e+07  7.861097e+07      0.054530      0.046157    240.154170   \n",
              "min    2.539000e+03  2.438000e+03     40.499790    -74.244420      0.000000   \n",
              "25%    9.471945e+06  7.822033e+06     40.690100    -73.983070     69.000000   \n",
              "50%    1.967728e+07  3.079382e+07     40.723070    -73.955680    106.000000   \n",
              "75%    2.915218e+07  1.074344e+08     40.763115    -73.936275    175.000000   \n",
              "max    3.648724e+07  2.743213e+08     40.913060    -73.712990  10000.000000   \n",
              "\n",
              "       minimum_nights  number_of_reviews  reviews_per_month  \\\n",
              "count    48895.000000       48895.000000       38843.000000   \n",
              "mean         7.029962          23.274466           1.373221   \n",
              "std         20.510550          44.550582           1.680442   \n",
              "min          1.000000           0.000000           0.010000   \n",
              "25%          1.000000           1.000000           0.190000   \n",
              "50%          3.000000           5.000000           0.720000   \n",
              "75%          5.000000          24.000000           2.020000   \n",
              "max       1250.000000         629.000000          58.500000   \n",
              "\n",
              "       calculated_host_listings_count  availability_365  \n",
              "count                    48895.000000      48895.000000  \n",
              "mean                         7.143982        112.781327  \n",
              "std                         32.952519        131.622289  \n",
              "min                          1.000000          0.000000  \n",
              "25%                          1.000000          0.000000  \n",
              "50%                          1.000000         45.000000  \n",
              "75%                          2.000000        227.000000  \n",
              "max                        327.000000        365.000000  "
            ]
          },
          "execution_count": 25,
          "metadata": {},
          "output_type": "execute_result"
        }
      ],
      "source": [
        "df.describe()"
      ]
    },
    {
      "cell_type": "code",
      "execution_count": null,
      "id": "c7b9dff3-2f27-495d-b553-70a9e91c190d",
      "metadata": {
        "id": "c7b9dff3-2f27-495d-b553-70a9e91c190d"
      },
      "outputs": [],
      "source": [
        "# identity the type of data stored in each columns"
      ]
    },
    {
      "cell_type": "code",
      "execution_count": null,
      "id": "8213a5af-f813-4474-b4cd-121eb9a35e12",
      "metadata": {
        "id": "8213a5af-f813-4474-b4cd-121eb9a35e12",
        "outputId": "ef3e717f-8cf2-40a4-d59f-62425d15e6e7"
      },
      "outputs": [
        {
          "data": {
            "text/plain": [
              "id                                  int64\n",
              "name                               object\n",
              "host_id                             int64\n",
              "host_name                          object\n",
              "neighbourhood_group                object\n",
              "neighbourhood                      object\n",
              "latitude                          float64\n",
              "longitude                         float64\n",
              "room_type                          object\n",
              "price                               int64\n",
              "minimum_nights                      int64\n",
              "number_of_reviews                   int64\n",
              "last_review                        object\n",
              "reviews_per_month                 float64\n",
              "calculated_host_listings_count      int64\n",
              "availability_365                    int64\n",
              "dtype: object"
            ]
          },
          "execution_count": 26,
          "metadata": {},
          "output_type": "execute_result"
        }
      ],
      "source": [
        "df.dtypes\n"
      ]
    },
    {
      "cell_type": "markdown",
      "id": "4e051e6f-2137-4bcf-bbc9-a709d2c88027",
      "metadata": {
        "id": "4e051e6f-2137-4bcf-bbc9-a709d2c88027"
      },
      "source": [
        "# Check for missing values"
      ]
    },
    {
      "cell_type": "code",
      "execution_count": null,
      "id": "64eb677f-23ba-4525-99cd-d5c77a888eef",
      "metadata": {
        "id": "64eb677f-23ba-4525-99cd-d5c77a888eef"
      },
      "outputs": [],
      "source": [
        "#identify the empty cells"
      ]
    },
    {
      "cell_type": "code",
      "execution_count": null,
      "id": "64546edd-cf79-4a04-8976-08b9afa2eac8",
      "metadata": {
        "id": "64546edd-cf79-4a04-8976-08b9afa2eac8",
        "outputId": "93346233-99a9-4a49-9abe-034120b4d64a"
      },
      "outputs": [
        {
          "data": {
            "text/plain": [
              "id                                    0\n",
              "name                                 16\n",
              "host_id                               0\n",
              "host_name                            21\n",
              "neighbourhood_group                   0\n",
              "neighbourhood                         0\n",
              "latitude                              0\n",
              "longitude                             0\n",
              "room_type                             0\n",
              "price                                 0\n",
              "minimum_nights                        0\n",
              "number_of_reviews                     0\n",
              "last_review                       10052\n",
              "reviews_per_month                 10052\n",
              "calculated_host_listings_count        0\n",
              "availability_365                      0\n",
              "dtype: int64"
            ]
          },
          "execution_count": 27,
          "metadata": {},
          "output_type": "execute_result"
        }
      ],
      "source": [
        "df.isnull().sum()"
      ]
    },
    {
      "cell_type": "code",
      "execution_count": null,
      "id": "b5eb862c-0b54-4035-86bc-c5d5bd919a8b",
      "metadata": {
        "id": "b5eb862c-0b54-4035-86bc-c5d5bd919a8b"
      },
      "outputs": [],
      "source": [
        "# Drop rows or columns with missing values"
      ]
    },
    {
      "cell_type": "code",
      "execution_count": null,
      "id": "53db257d-6a2c-4cfb-b64b-8d9ceb556d3b",
      "metadata": {
        "id": "53db257d-6a2c-4cfb-b64b-8d9ceb556d3b"
      },
      "outputs": [],
      "source": [
        "df.dropna(inplace=True)"
      ]
    },
    {
      "cell_type": "code",
      "execution_count": null,
      "id": "c343553a-b026-40ee-be76-70bdf5ac5fb7",
      "metadata": {
        "id": "c343553a-b026-40ee-be76-70bdf5ac5fb7"
      },
      "outputs": [],
      "source": [
        "#check if there are still null data"
      ]
    },
    {
      "cell_type": "code",
      "execution_count": null,
      "id": "24a20ca5-6e52-4d09-8c07-d6b181a9f2d2",
      "metadata": {
        "id": "24a20ca5-6e52-4d09-8c07-d6b181a9f2d2",
        "outputId": "25103dab-5ff2-4516-bb9a-d2a40ccb6fd3"
      },
      "outputs": [
        {
          "data": {
            "text/plain": [
              "id                                0\n",
              "name                              0\n",
              "host_id                           0\n",
              "host_name                         0\n",
              "neighbourhood_group               0\n",
              "neighbourhood                     0\n",
              "latitude                          0\n",
              "longitude                         0\n",
              "room_type                         0\n",
              "price                             0\n",
              "minimum_nights                    0\n",
              "number_of_reviews                 0\n",
              "last_review                       0\n",
              "reviews_per_month                 0\n",
              "calculated_host_listings_count    0\n",
              "availability_365                  0\n",
              "dtype: int64"
            ]
          },
          "execution_count": 29,
          "metadata": {},
          "output_type": "execute_result"
        }
      ],
      "source": [
        "df.isnull().sum()"
      ]
    },
    {
      "cell_type": "code",
      "execution_count": null,
      "id": "3d1a370e-bcde-413e-b78d-a435fd4d4b5d",
      "metadata": {
        "id": "3d1a370e-bcde-413e-b78d-a435fd4d4b5d",
        "outputId": "e47e53c9-dbb9-4ca1-c7b1-c5cc5856be32"
      },
      "outputs": [
        {
          "data": {
            "text/plain": [
              "(38821, 16)"
            ]
          },
          "execution_count": 11,
          "metadata": {},
          "output_type": "execute_result"
        }
      ],
      "source": [
        "df.shape"
      ]
    },
    {
      "cell_type": "markdown",
      "id": "8456f9db-4a42-4b76-a2e1-5e7712fd2b15",
      "metadata": {
        "id": "8456f9db-4a42-4b76-a2e1-5e7712fd2b15"
      },
      "source": [
        "# Checking and Removing duplicated data"
      ]
    },
    {
      "cell_type": "code",
      "execution_count": null,
      "id": "a6b3046b-bef4-40c2-a379-3803b531634a",
      "metadata": {
        "id": "a6b3046b-bef4-40c2-a379-3803b531634a",
        "outputId": "89998c26-334c-4db4-f185-7ebf03fb3280"
      },
      "outputs": [
        {
          "name": "stdout",
          "output_type": "stream",
          "text": [
            "0\n"
          ]
        }
      ],
      "source": [
        "print(df.duplicated().sum())"
      ]
    },
    {
      "cell_type": "code",
      "execution_count": null,
      "id": "fcf4b5f2-6e92-485d-9c93-358491d8e62b",
      "metadata": {
        "id": "fcf4b5f2-6e92-485d-9c93-358491d8e62b"
      },
      "outputs": [],
      "source": [
        "# checking for missing values"
      ]
    },
    {
      "cell_type": "code",
      "execution_count": null,
      "id": "1ff3f635-f408-46a5-8bf0-c7143b51c02b",
      "metadata": {
        "id": "1ff3f635-f408-46a5-8bf0-c7143b51c02b",
        "outputId": "4edba86c-7e28-4d64-9b8d-1f3d19f29e5d"
      },
      "outputs": [
        {
          "data": {
            "text/plain": [
              "id                                    0\n",
              "name                                 16\n",
              "host_id                               0\n",
              "host_name                            21\n",
              "neighbourhood_group                   0\n",
              "neighbourhood                         0\n",
              "latitude                              0\n",
              "longitude                             0\n",
              "room_type                             0\n",
              "price                                 0\n",
              "minimum_nights                        0\n",
              "number_of_reviews                     0\n",
              "last_review                       10052\n",
              "reviews_per_month                 10052\n",
              "calculated_host_listings_count        0\n",
              "availability_365                      0\n",
              "dtype: int64"
            ]
          },
          "execution_count": 15,
          "metadata": {},
          "output_type": "execute_result"
        }
      ],
      "source": [
        "df.isnull().sum()"
      ]
    },
    {
      "cell_type": "code",
      "execution_count": null,
      "id": "f5a44d20-2f65-40fb-85fd-b81413abc16d",
      "metadata": {
        "id": "f5a44d20-2f65-40fb-85fd-b81413abc16d"
      },
      "outputs": [],
      "source": [
        "df.dropna(inplace=True)"
      ]
    },
    {
      "cell_type": "code",
      "execution_count": null,
      "id": "6aa62d15-e6ca-46ff-9652-fdaf188b561e",
      "metadata": {
        "id": "6aa62d15-e6ca-46ff-9652-fdaf188b561e",
        "outputId": "9fcde622-1a32-4ea6-aaf9-6bccf0f311a4"
      },
      "outputs": [
        {
          "data": {
            "text/plain": [
              "id                                0\n",
              "name                              0\n",
              "host_id                           0\n",
              "host_name                         0\n",
              "neighbourhood_group               0\n",
              "neighbourhood                     0\n",
              "latitude                          0\n",
              "longitude                         0\n",
              "room_type                         0\n",
              "price                             0\n",
              "minimum_nights                    0\n",
              "number_of_reviews                 0\n",
              "last_review                       0\n",
              "reviews_per_month                 0\n",
              "calculated_host_listings_count    0\n",
              "availability_365                  0\n",
              "dtype: int64"
            ]
          },
          "execution_count": 20,
          "metadata": {},
          "output_type": "execute_result"
        }
      ],
      "source": [
        "df.isnull().sum()"
      ]
    },
    {
      "cell_type": "markdown",
      "id": "cb16be18-0d99-437d-bab4-3cd41045ddbd",
      "metadata": {
        "id": "cb16be18-0d99-437d-bab4-3cd41045ddbd"
      },
      "source": [
        "#"
      ]
    },
    {
      "cell_type": "markdown",
      "id": "291e03bc-3ccb-4211-8a1a-15c0a35830c8",
      "metadata": {
        "id": "291e03bc-3ccb-4211-8a1a-15c0a35830c8"
      },
      "source": [
        "\n",
        "# Ensuring  consistent formatting and units across the dataset for accurate analysis\n"
      ]
    },
    {
      "cell_type": "code",
      "execution_count": null,
      "id": "26493ecc-f98d-48ad-9f38-48931294924f",
      "metadata": {
        "id": "26493ecc-f98d-48ad-9f38-48931294924f",
        "outputId": "a13941b4-3128-42bf-c1c6-0effb7156027"
      },
      "outputs": [
        {
          "data": {
            "text/html": [
              "<div>\n",
              "<style scoped>\n",
              "    .dataframe tbody tr th:only-of-type {\n",
              "        vertical-align: middle;\n",
              "    }\n",
              "\n",
              "    .dataframe tbody tr th {\n",
              "        vertical-align: top;\n",
              "    }\n",
              "\n",
              "    .dataframe thead th {\n",
              "        text-align: right;\n",
              "    }\n",
              "</style>\n",
              "<table border=\"1\" class=\"dataframe\">\n",
              "  <thead>\n",
              "    <tr style=\"text-align: right;\">\n",
              "      <th></th>\n",
              "      <th>id</th>\n",
              "      <th>name</th>\n",
              "      <th>host_id</th>\n",
              "      <th>host_name</th>\n",
              "      <th>neighbourhood_group</th>\n",
              "      <th>neighbourhood</th>\n",
              "      <th>latitude</th>\n",
              "      <th>longitude</th>\n",
              "      <th>room_type</th>\n",
              "      <th>price</th>\n",
              "      <th>minimum_nights</th>\n",
              "      <th>number_of_reviews</th>\n",
              "      <th>last_review</th>\n",
              "      <th>reviews_per_month</th>\n",
              "      <th>calculated_host_listings_count</th>\n",
              "      <th>availability_365</th>\n",
              "    </tr>\n",
              "  </thead>\n",
              "  <tbody>\n",
              "    <tr>\n",
              "      <th>0</th>\n",
              "      <td>2539</td>\n",
              "      <td>clean &amp; quiet apt home by the park</td>\n",
              "      <td>2787</td>\n",
              "      <td>john</td>\n",
              "      <td>brooklyn</td>\n",
              "      <td>kensington</td>\n",
              "      <td>40.64749</td>\n",
              "      <td>-73.97237</td>\n",
              "      <td>private room</td>\n",
              "      <td>149</td>\n",
              "      <td>1</td>\n",
              "      <td>9</td>\n",
              "      <td>2018-10-19</td>\n",
              "      <td>0</td>\n",
              "      <td>6</td>\n",
              "      <td>365</td>\n",
              "    </tr>\n",
              "    <tr>\n",
              "      <th>1</th>\n",
              "      <td>2595</td>\n",
              "      <td>skylit midtown castle</td>\n",
              "      <td>2845</td>\n",
              "      <td>jennifer</td>\n",
              "      <td>manhattan</td>\n",
              "      <td>midtown</td>\n",
              "      <td>40.75362</td>\n",
              "      <td>-73.98377</td>\n",
              "      <td>entire home/apt</td>\n",
              "      <td>225</td>\n",
              "      <td>1</td>\n",
              "      <td>45</td>\n",
              "      <td>2019-05-21</td>\n",
              "      <td>0</td>\n",
              "      <td>2</td>\n",
              "      <td>355</td>\n",
              "    </tr>\n",
              "    <tr>\n",
              "      <th>3</th>\n",
              "      <td>3831</td>\n",
              "      <td>cozy entire floor of brownstone</td>\n",
              "      <td>4869</td>\n",
              "      <td>lisaroxanne</td>\n",
              "      <td>brooklyn</td>\n",
              "      <td>clinton hill</td>\n",
              "      <td>40.68514</td>\n",
              "      <td>-73.95976</td>\n",
              "      <td>entire home/apt</td>\n",
              "      <td>89</td>\n",
              "      <td>1</td>\n",
              "      <td>270</td>\n",
              "      <td>2019-07-05</td>\n",
              "      <td>5</td>\n",
              "      <td>1</td>\n",
              "      <td>194</td>\n",
              "    </tr>\n",
              "    <tr>\n",
              "      <th>4</th>\n",
              "      <td>5022</td>\n",
              "      <td>entire apt: spacious studio/loft by central park</td>\n",
              "      <td>7192</td>\n",
              "      <td>laura</td>\n",
              "      <td>manhattan</td>\n",
              "      <td>east harlem</td>\n",
              "      <td>40.79851</td>\n",
              "      <td>-73.94399</td>\n",
              "      <td>entire home/apt</td>\n",
              "      <td>80</td>\n",
              "      <td>10</td>\n",
              "      <td>9</td>\n",
              "      <td>2018-11-19</td>\n",
              "      <td>0</td>\n",
              "      <td>1</td>\n",
              "      <td>0</td>\n",
              "    </tr>\n",
              "    <tr>\n",
              "      <th>5</th>\n",
              "      <td>5099</td>\n",
              "      <td>large cozy 1 br apartment in midtown east</td>\n",
              "      <td>7322</td>\n",
              "      <td>chris</td>\n",
              "      <td>manhattan</td>\n",
              "      <td>murray hill</td>\n",
              "      <td>40.74767</td>\n",
              "      <td>-73.97500</td>\n",
              "      <td>entire home/apt</td>\n",
              "      <td>200</td>\n",
              "      <td>3</td>\n",
              "      <td>74</td>\n",
              "      <td>2019-06-22</td>\n",
              "      <td>1</td>\n",
              "      <td>1</td>\n",
              "      <td>129</td>\n",
              "    </tr>\n",
              "  </tbody>\n",
              "</table>\n",
              "</div>"
            ],
            "text/plain": [
              "     id                                              name  host_id  \\\n",
              "0  2539                clean & quiet apt home by the park     2787   \n",
              "1  2595                             skylit midtown castle     2845   \n",
              "3  3831                   cozy entire floor of brownstone     4869   \n",
              "4  5022  entire apt: spacious studio/loft by central park     7192   \n",
              "5  5099         large cozy 1 br apartment in midtown east     7322   \n",
              "\n",
              "     host_name neighbourhood_group neighbourhood  latitude  longitude  \\\n",
              "0         john            brooklyn    kensington  40.64749  -73.97237   \n",
              "1     jennifer           manhattan       midtown  40.75362  -73.98377   \n",
              "3  lisaroxanne            brooklyn  clinton hill  40.68514  -73.95976   \n",
              "4        laura           manhattan   east harlem  40.79851  -73.94399   \n",
              "5        chris           manhattan   murray hill  40.74767  -73.97500   \n",
              "\n",
              "         room_type  price  minimum_nights  number_of_reviews last_review  \\\n",
              "0     private room    149               1                  9  2018-10-19   \n",
              "1  entire home/apt    225               1                 45  2019-05-21   \n",
              "3  entire home/apt     89               1                270  2019-07-05   \n",
              "4  entire home/apt     80              10                  9  2018-11-19   \n",
              "5  entire home/apt    200               3                 74  2019-06-22   \n",
              "\n",
              "   reviews_per_month  calculated_host_listings_count  availability_365  \n",
              "0                  0                               6               365  \n",
              "1                  0                               2               355  \n",
              "3                  5                               1               194  \n",
              "4                  0                               1                 0  \n",
              "5                  1                               1               129  "
            ]
          },
          "execution_count": 43,
          "metadata": {},
          "output_type": "execute_result"
        }
      ],
      "source": [
        "df['name'] = df['name'].str.lower()\n",
        "df['host_name'] = df['host_name'].str.lower()\n",
        "df['neighbourhood_group'] = df['neighbourhood_group'].str.lower()\n",
        "df['neighbourhood'] = df['neighbourhood'].str.lower()\n",
        "df['room_type'] = df['room_type'].str.lower()\n",
        "df.head()\n"
      ]
    },
    {
      "cell_type": "markdown",
      "id": "b48491d7-f295-41b0-8f2b-146a78ef2d00",
      "metadata": {
        "id": "b48491d7-f295-41b0-8f2b-146a78ef2d00"
      },
      "source": [
        "# converting a float type to int\n"
      ]
    },
    {
      "cell_type": "code",
      "execution_count": null,
      "id": "0763d1c1-528a-4c45-9ef1-7877da90c49e",
      "metadata": {
        "id": "0763d1c1-528a-4c45-9ef1-7877da90c49e"
      },
      "outputs": [],
      "source": []
    },
    {
      "cell_type": "code",
      "execution_count": null,
      "id": "1930ed97-fe3b-4952-b978-9aa5ba4b7924",
      "metadata": {
        "id": "1930ed97-fe3b-4952-b978-9aa5ba4b7924",
        "outputId": "89c75570-0ba4-43a9-bf63-93535ae96819"
      },
      "outputs": [
        {
          "data": {
            "text/html": [
              "<div>\n",
              "<style scoped>\n",
              "    .dataframe tbody tr th:only-of-type {\n",
              "        vertical-align: middle;\n",
              "    }\n",
              "\n",
              "    .dataframe tbody tr th {\n",
              "        vertical-align: top;\n",
              "    }\n",
              "\n",
              "    .dataframe thead th {\n",
              "        text-align: right;\n",
              "    }\n",
              "</style>\n",
              "<table border=\"1\" class=\"dataframe\">\n",
              "  <thead>\n",
              "    <tr style=\"text-align: right;\">\n",
              "      <th></th>\n",
              "      <th>id</th>\n",
              "      <th>name</th>\n",
              "      <th>host_id</th>\n",
              "      <th>host_name</th>\n",
              "      <th>neighbourhood_group</th>\n",
              "      <th>neighbourhood</th>\n",
              "      <th>latitude</th>\n",
              "      <th>longitude</th>\n",
              "      <th>room_type</th>\n",
              "      <th>price</th>\n",
              "      <th>minimum_nights</th>\n",
              "      <th>number_of_reviews</th>\n",
              "      <th>last_review</th>\n",
              "      <th>reviews_per_month</th>\n",
              "      <th>calculated_host_listings_count</th>\n",
              "      <th>availability_365</th>\n",
              "      <th>z_score</th>\n",
              "    </tr>\n",
              "  </thead>\n",
              "  <tbody>\n",
              "    <tr>\n",
              "      <th>0</th>\n",
              "      <td>2539</td>\n",
              "      <td>clean &amp; quiet apt home by the park</td>\n",
              "      <td>2787</td>\n",
              "      <td>john</td>\n",
              "      <td>brooklyn</td>\n",
              "      <td>kensington</td>\n",
              "      <td>40.64749</td>\n",
              "      <td>-73.97237</td>\n",
              "      <td>private room</td>\n",
              "      <td>149</td>\n",
              "      <td>1</td>\n",
              "      <td>9</td>\n",
              "      <td>2018-10-19</td>\n",
              "      <td>0</td>\n",
              "      <td>6</td>\n",
              "      <td>365</td>\n",
              "      <td>0.179779</td>\n",
              "    </tr>\n",
              "    <tr>\n",
              "      <th>1</th>\n",
              "      <td>2595</td>\n",
              "      <td>skylit midtown castle</td>\n",
              "      <td>2845</td>\n",
              "      <td>jennifer</td>\n",
              "      <td>manhattan</td>\n",
              "      <td>midtown</td>\n",
              "      <td>40.75362</td>\n",
              "      <td>-73.98377</td>\n",
              "      <td>entire home/apt</td>\n",
              "      <td>225</td>\n",
              "      <td>1</td>\n",
              "      <td>45</td>\n",
              "      <td>2019-05-21</td>\n",
              "      <td>0</td>\n",
              "      <td>2</td>\n",
              "      <td>355</td>\n",
              "      <td>0.982547</td>\n",
              "    </tr>\n",
              "    <tr>\n",
              "      <th>3</th>\n",
              "      <td>3831</td>\n",
              "      <td>cozy entire floor of brownstone</td>\n",
              "      <td>4869</td>\n",
              "      <td>lisaroxanne</td>\n",
              "      <td>brooklyn</td>\n",
              "      <td>clinton hill</td>\n",
              "      <td>40.68514</td>\n",
              "      <td>-73.95976</td>\n",
              "      <td>entire home/apt</td>\n",
              "      <td>89</td>\n",
              "      <td>1</td>\n",
              "      <td>270</td>\n",
              "      <td>2019-07-05</td>\n",
              "      <td>5</td>\n",
              "      <td>1</td>\n",
              "      <td>194</td>\n",
              "      <td>-0.453985</td>\n",
              "    </tr>\n",
              "    <tr>\n",
              "      <th>4</th>\n",
              "      <td>5022</td>\n",
              "      <td>entire apt: spacious studio/loft by central park</td>\n",
              "      <td>7192</td>\n",
              "      <td>laura</td>\n",
              "      <td>manhattan</td>\n",
              "      <td>east harlem</td>\n",
              "      <td>40.79851</td>\n",
              "      <td>-73.94399</td>\n",
              "      <td>entire home/apt</td>\n",
              "      <td>80</td>\n",
              "      <td>10</td>\n",
              "      <td>9</td>\n",
              "      <td>2018-11-19</td>\n",
              "      <td>0</td>\n",
              "      <td>1</td>\n",
              "      <td>0</td>\n",
              "      <td>-0.549049</td>\n",
              "    </tr>\n",
              "    <tr>\n",
              "      <th>5</th>\n",
              "      <td>5099</td>\n",
              "      <td>large cozy 1 br apartment in midtown east</td>\n",
              "      <td>7322</td>\n",
              "      <td>chris</td>\n",
              "      <td>manhattan</td>\n",
              "      <td>murray hill</td>\n",
              "      <td>40.74767</td>\n",
              "      <td>-73.97500</td>\n",
              "      <td>entire home/apt</td>\n",
              "      <td>200</td>\n",
              "      <td>3</td>\n",
              "      <td>74</td>\n",
              "      <td>2019-06-22</td>\n",
              "      <td>1</td>\n",
              "      <td>1</td>\n",
              "      <td>129</td>\n",
              "      <td>0.718479</td>\n",
              "    </tr>\n",
              "  </tbody>\n",
              "</table>\n",
              "</div>"
            ],
            "text/plain": [
              "     id                                              name  host_id  \\\n",
              "0  2539                clean & quiet apt home by the park     2787   \n",
              "1  2595                             skylit midtown castle     2845   \n",
              "3  3831                   cozy entire floor of brownstone     4869   \n",
              "4  5022  entire apt: spacious studio/loft by central park     7192   \n",
              "5  5099         large cozy 1 br apartment in midtown east     7322   \n",
              "\n",
              "     host_name neighbourhood_group neighbourhood  latitude  longitude  \\\n",
              "0         john            brooklyn    kensington  40.64749  -73.97237   \n",
              "1     jennifer           manhattan       midtown  40.75362  -73.98377   \n",
              "3  lisaroxanne            brooklyn  clinton hill  40.68514  -73.95976   \n",
              "4        laura           manhattan   east harlem  40.79851  -73.94399   \n",
              "5        chris           manhattan   murray hill  40.74767  -73.97500   \n",
              "\n",
              "         room_type  price  minimum_nights  number_of_reviews last_review  \\\n",
              "0     private room    149               1                  9  2018-10-19   \n",
              "1  entire home/apt    225               1                 45  2019-05-21   \n",
              "3  entire home/apt     89               1                270  2019-07-05   \n",
              "4  entire home/apt     80              10                  9  2018-11-19   \n",
              "5  entire home/apt    200               3                 74  2019-06-22   \n",
              "\n",
              "   reviews_per_month  calculated_host_listings_count  availability_365  \\\n",
              "0                  0                               6               365   \n",
              "1                  0                               2               355   \n",
              "3                  5                               1               194   \n",
              "4                  0                               1                 0   \n",
              "5                  1                               1               129   \n",
              "\n",
              "    z_score  \n",
              "0  0.179779  \n",
              "1  0.982547  \n",
              "3 -0.453985  \n",
              "4 -0.549049  \n",
              "5  0.718479  "
            ]
          },
          "execution_count": 83,
          "metadata": {},
          "output_type": "execute_result"
        }
      ],
      "source": [
        "df['reviews_per_month'] = df['reviews_per_month'].round()\n",
        "df['reviews_per_month'] = df['reviews_per_month'].astype(int)\n",
        "df.dtypes\n",
        "df.head()"
      ]
    },
    {
      "cell_type": "markdown",
      "id": "7afaca70-3849-4b26-822e-eca5d0aa2d3e",
      "metadata": {
        "id": "7afaca70-3849-4b26-822e-eca5d0aa2d3e"
      },
      "source": [
        "# Treating outliers"
      ]
    },
    {
      "cell_type": "code",
      "execution_count": null,
      "id": "441039c5-fdd3-4fa5-a31c-058da3bd2cb4",
      "metadata": {
        "id": "441039c5-fdd3-4fa5-a31c-058da3bd2cb4",
        "outputId": "e81d9d48-e647-4ffb-b2c1-4ba76bf7e9d6"
      },
      "outputs": [
        {
          "name": "stdout",
          "output_type": "stream",
          "text": [
            "Outliers:\n",
            "             id                                               name    host_id  \\\n",
            "103       23686  2000 sf 3br 2bath west village private  townhouse      93790   \n",
            "158       38663                   luxury brownstone in boerum hill     165789   \n",
            "233       60164                 beautiful, elegant 3 bed soho loft     289653   \n",
            "242       61224                                  huge chelsea loft     291112   \n",
            "299       68974                 unique spacious loft on the bowery     281229   \n",
            "...         ...                                                ...        ...   \n",
            "47653  35846059        ★ amazing★ time square/ 2 bedroom 3 bed apt  266992480   \n",
            "47731  35880719  modern boho lux 2 bed 2 bath haven + quiet garden  269885851   \n",
            "47736  35881797    luxury hi-end brooklyn brownstone with backyard  269893009   \n",
            "47927  35991985                 penthouse lofts + private terrace!  270590027   \n",
            "48740  36413632         spacious 2br in beautiful brooklyn heights    6608220   \n",
            "\n",
            "      host_name neighbourhood_group     neighbourhood  latitude  longitude  \\\n",
            "103         ann           manhattan      west village  40.73096  -74.00319   \n",
            "158       sarah            brooklyn       boerum hill  40.68559  -73.98094   \n",
            "233    harrison           manhattan              soho  40.72003  -74.00262   \n",
            "242       frank           manhattan           chelsea  40.74358  -74.00027   \n",
            "299      alicia           manhattan      little italy  40.71943  -73.99627   \n",
            "...         ...                 ...               ...       ...        ...   \n",
            "47653       sam           manhattan    hell's kitchen  40.76558  -73.98855   \n",
            "47731    sharon           manhattan   lower east side  40.72057  -73.99343   \n",
            "47736        ek            brooklyn         bay ridge  40.63294  -74.02730   \n",
            "47927    amanda            brooklyn      williamsburg  40.70907  -73.95054   \n",
            "48740      matt            brooklyn  brooklyn heights  40.69827  -73.99649   \n",
            "\n",
            "             room_type  price  minimum_nights  number_of_reviews last_review  \\\n",
            "103    entire home/apt    500               4                 46  2019-05-18   \n",
            "158    entire home/apt    475               3                 23  2018-12-31   \n",
            "233    entire home/apt    500               4                 94  2019-06-23   \n",
            "242    entire home/apt    500               2                 35  2017-07-27   \n",
            "299    entire home/apt    575               2                191  2019-06-20   \n",
            "...                ...    ...             ...                ...         ...   \n",
            "47653  entire home/apt    500               1                  4  2019-07-06   \n",
            "47731  entire home/apt    495               3                  1  2019-07-06   \n",
            "47736  entire home/apt    595               1                  4  2019-07-07   \n",
            "47927  entire home/apt    599               2                  1  2019-07-05   \n",
            "48740  entire home/apt    550               3                  1  2019-07-07   \n",
            "\n",
            "       reviews_per_month  calculated_host_listings_count  availability_365  \\\n",
            "103                    1                               2               243   \n",
            "158                    0                               1               230   \n",
            "233                    1                               1               329   \n",
            "242                    0                               1               348   \n",
            "299                    2                               1               298   \n",
            "...                  ...                             ...               ...   \n",
            "47653                  4                               2                 2   \n",
            "47731                  1                               1               264   \n",
            "47736                  4                               1                57   \n",
            "47927                  1                               1               346   \n",
            "48740                  1                               1               230   \n",
            "\n",
            "        z_score  \n",
            "103    3.887298  \n",
            "158    3.623230  \n",
            "233    3.887298  \n",
            "242    3.887298  \n",
            "299    4.679503  \n",
            "...         ...  \n",
            "47653  3.887298  \n",
            "47731  3.834484  \n",
            "47736  4.890757  \n",
            "47927  4.933008  \n",
            "48740  4.415434  \n",
            "\n",
            "[775 rows x 17 columns]\n"
          ]
        }
      ],
      "source": [
        "# Calculating mean and standard deviation\n",
        "mean = df['price'].mean()\n",
        "std_dev = df['price'].std()\n",
        "\n",
        "# Calculating Z-score for each data point\n",
        "df['z_score'] = (df['price'] - mean) / std_dev\n",
        "\n",
        "# Identify outliers (threshold = 3)\n",
        "outliers = df[(df['z_score'] > 3) | (df['z_score'] < -3)]\n",
        "\n",
        "# Print outliers\n",
        "print(\"Outliers:\")\n",
        "print(outliers)"
      ]
    },
    {
      "cell_type": "code",
      "execution_count": null,
      "id": "98a95b2c-aafb-4699-8338-e2b68eb9489d",
      "metadata": {
        "id": "98a95b2c-aafb-4699-8338-e2b68eb9489d",
        "outputId": "3e108b7d-d3dc-4c31-a59c-6f5f04db3559"
      },
      "outputs": [
        {
          "name": "stdout",
          "output_type": "stream",
          "text": [
            "Filtered Data:\n",
            "             id                                              name    host_id  \\\n",
            "0          2539                clean & quiet apt home by the park       2787   \n",
            "1          2595                             skylit midtown castle       2845   \n",
            "2          3831                   cozy entire floor of brownstone       4869   \n",
            "3          5022  entire apt: spacious studio/loft by central park       7192   \n",
            "4          5099         large cozy 1 br apartment in midtown east       7322   \n",
            "...         ...                                               ...        ...   \n",
            "37729  36425863        lovely privet bedroom with privet restroom   83554966   \n",
            "37730  36427429                          no.2 with queen size bed  257683179   \n",
            "37731  36438336                                   seas the moment  211644523   \n",
            "37732  36442252                     1b-1b apartment near by metro  273841667   \n",
            "37733  36455809           cozy private room in bushwick, brooklyn   74162901   \n",
            "\n",
            "         host_name neighbourhood_group    neighbourhood  latitude  longitude  \\\n",
            "0             john            brooklyn       kensington  40.64749  -73.97237   \n",
            "1         jennifer           manhattan          midtown  40.75362  -73.98377   \n",
            "2      lisaroxanne            brooklyn     clinton hill  40.68514  -73.95976   \n",
            "3            laura           manhattan      east harlem  40.79851  -73.94399   \n",
            "4            chris           manhattan      murray hill  40.74767  -73.97500   \n",
            "...            ...                 ...              ...       ...        ...   \n",
            "37729        rusaa           manhattan  upper east side  40.78099  -73.95366   \n",
            "37730         h ai              queens         flushing  40.75104  -73.81459   \n",
            "37731          ben       staten island      great kills  40.54179  -74.14275   \n",
            "37732       blaine               bronx       mott haven  40.80787  -73.92400   \n",
            "37733    christine            brooklyn         bushwick  40.69805  -73.92801   \n",
            "\n",
            "             room_type  price  minimum_nights  number_of_reviews last_review  \\\n",
            "0         private room    149               1                  9  2018-10-19   \n",
            "1      entire home/apt    225               1                 45  2019-05-21   \n",
            "2      entire home/apt     89               1                270  2019-07-05   \n",
            "3      entire home/apt     80              10                  9  2018-11-19   \n",
            "4      entire home/apt    200               3                 74  2019-06-22   \n",
            "...                ...    ...             ...                ...         ...   \n",
            "37729     private room    129               1                  1  2019-07-07   \n",
            "37730     private room     45               1                  1  2019-07-07   \n",
            "37731     private room    235               1                  1  2019-07-07   \n",
            "37732  entire home/apt    100               1                  2  2019-07-07   \n",
            "37733     private room     30               1                  1  2019-07-08   \n",
            "\n",
            "       reviews_per_month  calculated_host_listings_count  availability_365  \n",
            "0                      0                               6               365  \n",
            "1                      0                               2               355  \n",
            "2                      5                               1               194  \n",
            "3                      0                               1                 0  \n",
            "4                      1                               1               129  \n",
            "...                  ...                             ...               ...  \n",
            "37729                  1                               1               147  \n",
            "37730                  1                               6               339  \n",
            "37731                  1                               1                87  \n",
            "37732                  2                               1                40  \n",
            "37733                  1                               1                 1  \n",
            "\n",
            "[37734 rows x 16 columns]\n"
          ]
        }
      ],
      "source": [
        "# Filtering out outliers\n",
        "data_filtered = df[(df['z_score'] <= 3) & (df['z_score'] >= -3)]\n",
        "\n",
        "# Dropping the z_score column as it's no longer needed\n",
        "data_filtered = data_filtered.drop(columns=['z_score'])\n",
        "\n",
        "#  Reset the index of the filtered DataFrame\n",
        "data_filtered = data_filtered.reset_index(drop=True)\n",
        "\n",
        "# Print the filtered DataFrame\n",
        "print(\"Filtered Data:\")\n",
        "print(data_filtered)"
      ]
    },
    {
      "cell_type": "code",
      "execution_count": null,
      "id": "af9dee3f-7c69-4b98-9e3b-0ed485818fde",
      "metadata": {
        "id": "af9dee3f-7c69-4b98-9e3b-0ed485818fde",
        "outputId": "c5ec687a-1867-4d2f-b4af-888ddafecfd7"
      },
      "outputs": [
        {
          "name": "stdout",
          "output_type": "stream",
          "text": [
            "<class 'pandas.core.frame.DataFrame'>\n",
            "RangeIndex: 37734 entries, 0 to 37733\n",
            "Data columns (total 16 columns):\n",
            " #   Column                          Non-Null Count  Dtype  \n",
            "---  ------                          --------------  -----  \n",
            " 0   id                              37734 non-null  int64  \n",
            " 1   name                            37734 non-null  object \n",
            " 2   host_id                         37734 non-null  int64  \n",
            " 3   host_name                       37734 non-null  object \n",
            " 4   neighbourhood_group             37734 non-null  object \n",
            " 5   neighbourhood                   37734 non-null  object \n",
            " 6   latitude                        37734 non-null  float64\n",
            " 7   longitude                       37734 non-null  float64\n",
            " 8   room_type                       37734 non-null  object \n",
            " 9   price                           37734 non-null  int64  \n",
            " 10  minimum_nights                  37734 non-null  int64  \n",
            " 11  number_of_reviews               37734 non-null  int64  \n",
            " 12  last_review                     37734 non-null  object \n",
            " 13  reviews_per_month               37734 non-null  int32  \n",
            " 14  calculated_host_listings_count  37734 non-null  int64  \n",
            " 15  availability_365                37734 non-null  int64  \n",
            "dtypes: float64(2), int32(1), int64(7), object(6)\n",
            "memory usage: 4.5+ MB\n"
          ]
        }
      ],
      "source": [
        "data_filtered.info()\n"
      ]
    },
    {
      "cell_type": "code",
      "execution_count": null,
      "id": "310bbada-6a3c-4e3b-aceb-ea50980b70f3",
      "metadata": {
        "id": "310bbada-6a3c-4e3b-aceb-ea50980b70f3",
        "outputId": "b2c04ef8-1e7b-4e6b-f024-8c6db86286e2"
      },
      "outputs": [
        {
          "name": "stderr",
          "output_type": "stream",
          "text": [
            "C:\\Users\\user\\anaconda3\\Lib\\site-packages\\seaborn\\_oldcore.py:1119: FutureWarning: use_inf_as_na option is deprecated and will be removed in a future version. Convert inf values to NaN before operating instead.\n",
            "  with pd.option_context('mode.use_inf_as_na', True):\n"
          ]
        },
        {
          "data": {
            "image/png": "[encoded data removed]",
            "text/plain": [
              "<Figure size 1000x600 with 1 Axes>"
            ]
          },
          "metadata": {},
          "output_type": "display_data"
        }
      ],
      "source": [
        "plt.figure(figsize=(10, 6))\n",
        "sns.histplot(df['price'], bins=30, kde=True)\n",
        "plt.title('Distribution of Prices')\n",
        "plt.xlabel('Price')\n",
        "plt.ylabel('Frequency')\n",
        "plt.show()"
      ]
    },
    {
      "cell_type": "code",
      "execution_count": null,
      "id": "e158e755-6497-4215-a1a1-36e6f9fe6925",
      "metadata": {
        "id": "e158e755-6497-4215-a1a1-36e6f9fe6925",
        "outputId": "d3c75e91-d77b-43df-e91d-c0bf807c88c2"
      },
      "outputs": [
        {
          "data": {
            "image/png": "[encoded data removed]",
            "text/plain": [
              "<Figure size 300x200 with 1 Axes>"
            ]
          },
          "metadata": {},
          "output_type": "display_data"
        }
      ],
      "source": [
        "plt.figure(figsize=(3, 2))\n",
        "sns.boxplot(df['price'])\n",
        "plt.title('Box Plot of Prices')\n",
        "plt.xlabel('Price')\n",
        "plt.show()"
      ]
    },
    {
      "cell_type": "code",
      "execution_count": null,
      "id": "2ed7a2d7-7782-4df6-b0bc-807c7d6f3aff",
      "metadata": {
        "id": "2ed7a2d7-7782-4df6-b0bc-807c7d6f3aff"
      },
      "outputs": [],
      "source": []
    }
  ],
  "metadata": {
    "kernelspec": {
      "display_name": "Python 3 (ipykernel)",
      "language": "python",
      "name": "python3"
    },
    "language_info": {
      "codemirror_mode": {
        "name": "ipython",
        "version": 3
      },
      "file_extension": ".py",
      "mimetype": "text/x-python",
      "name": "python",
      "nbconvert_exporter": "python",
      "pygments_lexer": "ipython3",
      "version": "3.11.7"
    },
    "colab": {
      "provenance": [],
      "include_colab_link": true
    }
  },
  "nbformat": 4,
  "nbformat_minor": 5
}